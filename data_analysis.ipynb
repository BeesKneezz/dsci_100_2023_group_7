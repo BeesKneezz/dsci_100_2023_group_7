{
 "cells": [
  {
   "cell_type": "code",
   "execution_count": 50,
   "id": "8ca6886c-1d08-4117-b7e8-28a3a8336ffb",
   "metadata": {
    "tags": []
   },
   "outputs": [
    {
     "name": "stderr",
     "output_type": "stream",
     "text": [
      "Updating HTML index of packages in '.Library'\n",
      "\n",
      "Making 'packages.html' ...\n",
      " done\n",
      "\n"
     ]
    }
   ],
   "source": [
    "# libraries\n",
    "library(tidyverse)\n",
    "library(repr)\n",
    "library(tidymodels)\n",
    "options(repr.matrix.max.rows = 6)\n",
    "install.packages(\"kknn\")\n",
    "library(kknn)"
   ]
  },
  {
   "cell_type": "code",
   "execution_count": 51,
   "id": "1145da37-8d42-4ddb-9deb-812f0867907e",
   "metadata": {
    "tags": []
   },
   "outputs": [],
   "source": [
    "#setting seed\n",
    "set.seed(2020)"
   ]
  },
  {
   "cell_type": "code",
   "execution_count": 52,
   "id": "cd6fa0c3-7df8-4a32-8bd1-945d0f6082b8",
   "metadata": {
    "tags": []
   },
   "outputs": [
    {
     "name": "stderr",
     "output_type": "stream",
     "text": [
      "\u001b[1mRows: \u001b[22m\u001b[34m303\u001b[39m \u001b[1mColumns: \u001b[22m\u001b[34m14\u001b[39m\n",
      "\u001b[36m──\u001b[39m \u001b[1mColumn specification\u001b[22m \u001b[36m────────────────────────────────────────────────────────\u001b[39m\n",
      "\u001b[1mDelimiter:\u001b[22m \",\"\n",
      "\u001b[31mchr\u001b[39m  (2): X12, X13\n",
      "\u001b[32mdbl\u001b[39m (12): X1, X2, X3, X4, X5, X6, X7, X8, X9, X10, X11, X14\n",
      "\n",
      "\u001b[36mℹ\u001b[39m Use `spec()` to retrieve the full column specification for this data.\n",
      "\u001b[36mℹ\u001b[39m Specify the column types or set `show_col_types = FALSE` to quiet this message.\n"
     ]
    },
    {
     "data": {
      "text/html": [
       "<table class=\"dataframe\">\n",
       "<caption>A spec_tbl_df: 303 × 14</caption>\n",
       "<thead>\n",
       "\t<tr><th scope=col>age</th><th scope=col>sex</th><th scope=col>cp</th><th scope=col>trestbps</th><th scope=col>chol</th><th scope=col>fbs</th><th scope=col>restecg</th><th scope=col>thalach</th><th scope=col>exang</th><th scope=col>oldpeak</th><th scope=col>slope</th><th scope=col>ca</th><th scope=col>thal</th><th scope=col>num</th></tr>\n",
       "\t<tr><th scope=col>&lt;dbl&gt;</th><th scope=col>&lt;dbl&gt;</th><th scope=col>&lt;dbl&gt;</th><th scope=col>&lt;dbl&gt;</th><th scope=col>&lt;dbl&gt;</th><th scope=col>&lt;dbl&gt;</th><th scope=col>&lt;dbl&gt;</th><th scope=col>&lt;dbl&gt;</th><th scope=col>&lt;dbl&gt;</th><th scope=col>&lt;dbl&gt;</th><th scope=col>&lt;dbl&gt;</th><th scope=col>&lt;chr&gt;</th><th scope=col>&lt;chr&gt;</th><th scope=col>&lt;dbl&gt;</th></tr>\n",
       "</thead>\n",
       "<tbody>\n",
       "\t<tr><td>63</td><td>1</td><td>1</td><td>145</td><td>233</td><td>1</td><td>2</td><td>150</td><td>0</td><td>2.3</td><td>3</td><td>0.0</td><td>6.0</td><td>0</td></tr>\n",
       "\t<tr><td>67</td><td>1</td><td>4</td><td>160</td><td>286</td><td>0</td><td>2</td><td>108</td><td>1</td><td>1.5</td><td>2</td><td>3.0</td><td>3.0</td><td>2</td></tr>\n",
       "\t<tr><td>67</td><td>1</td><td>4</td><td>120</td><td>229</td><td>0</td><td>2</td><td>129</td><td>1</td><td>2.6</td><td>2</td><td>2.0</td><td>7.0</td><td>1</td></tr>\n",
       "\t<tr><td>⋮</td><td>⋮</td><td>⋮</td><td>⋮</td><td>⋮</td><td>⋮</td><td>⋮</td><td>⋮</td><td>⋮</td><td>⋮</td><td>⋮</td><td>⋮</td><td>⋮</td><td>⋮</td></tr>\n",
       "\t<tr><td>57</td><td>1</td><td>4</td><td>130</td><td>131</td><td>0</td><td>0</td><td>115</td><td>1</td><td>1.2</td><td>2</td><td>1.0</td><td>7.0</td><td>3</td></tr>\n",
       "\t<tr><td>57</td><td>0</td><td>2</td><td>130</td><td>236</td><td>0</td><td>2</td><td>174</td><td>0</td><td>0.0</td><td>2</td><td>1.0</td><td>3.0</td><td>1</td></tr>\n",
       "\t<tr><td>38</td><td>1</td><td>3</td><td>138</td><td>175</td><td>0</td><td>0</td><td>173</td><td>0</td><td>0.0</td><td>1</td><td>?  </td><td>3.0</td><td>0</td></tr>\n",
       "</tbody>\n",
       "</table>\n"
      ],
      "text/latex": [
       "A spec\\_tbl\\_df: 303 × 14\n",
       "\\begin{tabular}{llllllllllllll}\n",
       " age & sex & cp & trestbps & chol & fbs & restecg & thalach & exang & oldpeak & slope & ca & thal & num\\\\\n",
       " <dbl> & <dbl> & <dbl> & <dbl> & <dbl> & <dbl> & <dbl> & <dbl> & <dbl> & <dbl> & <dbl> & <chr> & <chr> & <dbl>\\\\\n",
       "\\hline\n",
       "\t 63 & 1 & 1 & 145 & 233 & 1 & 2 & 150 & 0 & 2.3 & 3 & 0.0 & 6.0 & 0\\\\\n",
       "\t 67 & 1 & 4 & 160 & 286 & 0 & 2 & 108 & 1 & 1.5 & 2 & 3.0 & 3.0 & 2\\\\\n",
       "\t 67 & 1 & 4 & 120 & 229 & 0 & 2 & 129 & 1 & 2.6 & 2 & 2.0 & 7.0 & 1\\\\\n",
       "\t ⋮ & ⋮ & ⋮ & ⋮ & ⋮ & ⋮ & ⋮ & ⋮ & ⋮ & ⋮ & ⋮ & ⋮ & ⋮ & ⋮\\\\\n",
       "\t 57 & 1 & 4 & 130 & 131 & 0 & 0 & 115 & 1 & 1.2 & 2 & 1.0 & 7.0 & 3\\\\\n",
       "\t 57 & 0 & 2 & 130 & 236 & 0 & 2 & 174 & 0 & 0.0 & 2 & 1.0 & 3.0 & 1\\\\\n",
       "\t 38 & 1 & 3 & 138 & 175 & 0 & 0 & 173 & 0 & 0.0 & 1 & ?   & 3.0 & 0\\\\\n",
       "\\end{tabular}\n"
      ],
      "text/markdown": [
       "\n",
       "A spec_tbl_df: 303 × 14\n",
       "\n",
       "| age &lt;dbl&gt; | sex &lt;dbl&gt; | cp &lt;dbl&gt; | trestbps &lt;dbl&gt; | chol &lt;dbl&gt; | fbs &lt;dbl&gt; | restecg &lt;dbl&gt; | thalach &lt;dbl&gt; | exang &lt;dbl&gt; | oldpeak &lt;dbl&gt; | slope &lt;dbl&gt; | ca &lt;chr&gt; | thal &lt;chr&gt; | num &lt;dbl&gt; |\n",
       "|---|---|---|---|---|---|---|---|---|---|---|---|---|---|\n",
       "| 63 | 1 | 1 | 145 | 233 | 1 | 2 | 150 | 0 | 2.3 | 3 | 0.0 | 6.0 | 0 |\n",
       "| 67 | 1 | 4 | 160 | 286 | 0 | 2 | 108 | 1 | 1.5 | 2 | 3.0 | 3.0 | 2 |\n",
       "| 67 | 1 | 4 | 120 | 229 | 0 | 2 | 129 | 1 | 2.6 | 2 | 2.0 | 7.0 | 1 |\n",
       "| ⋮ | ⋮ | ⋮ | ⋮ | ⋮ | ⋮ | ⋮ | ⋮ | ⋮ | ⋮ | ⋮ | ⋮ | ⋮ | ⋮ |\n",
       "| 57 | 1 | 4 | 130 | 131 | 0 | 0 | 115 | 1 | 1.2 | 2 | 1.0 | 7.0 | 3 |\n",
       "| 57 | 0 | 2 | 130 | 236 | 0 | 2 | 174 | 0 | 0.0 | 2 | 1.0 | 3.0 | 1 |\n",
       "| 38 | 1 | 3 | 138 | 175 | 0 | 0 | 173 | 0 | 0.0 | 1 | ?   | 3.0 | 0 |\n",
       "\n"
      ],
      "text/plain": [
       "    age sex cp trestbps chol fbs restecg thalach exang oldpeak slope ca  thal\n",
       "1   63  1   1  145      233  1   2       150     0     2.3     3     0.0 6.0 \n",
       "2   67  1   4  160      286  0   2       108     1     1.5     2     3.0 3.0 \n",
       "3   67  1   4  120      229  0   2       129     1     2.6     2     2.0 7.0 \n",
       "⋮   ⋮   ⋮   ⋮  ⋮        ⋮    ⋮   ⋮       ⋮       ⋮     ⋮       ⋮     ⋮   ⋮   \n",
       "301 57  1   4  130      131  0   0       115     1     1.2     2     1.0 7.0 \n",
       "302 57  0   2  130      236  0   2       174     0     0.0     2     1.0 3.0 \n",
       "303 38  1   3  138      175  0   0       173     0     0.0     1     ?   3.0 \n",
       "    num\n",
       "1   0  \n",
       "2   2  \n",
       "3   1  \n",
       "⋮   ⋮  \n",
       "301 3  \n",
       "302 1  \n",
       "303 0  "
      ]
     },
     "metadata": {},
     "output_type": "display_data"
    }
   ],
   "source": [
    "# importing in data and adding column names\n",
    "data <- read_csv(\"https://raw.githubusercontent.com/BeesKneezz/dsci_100_2023_group_7/main/data/processed.cleveland.data\", col_names = FALSE)\n",
    "colnames(data) <- c(\"age\", \"sex\", \"cp\", \"trestbps\", \"chol\", \"fbs\", \"restecg\", \"thalach\", \"exang\", \"oldpeak\", \"slope\", \"ca\", \"thal\", \"num\")\n",
    "data"
   ]
  },
  {
   "cell_type": "code",
   "execution_count": 53,
   "id": "23365d2a-75dd-430c-a56a-ac7165524f15",
   "metadata": {
    "tags": []
   },
   "outputs": [
    {
     "data": {
      "text/html": [
       "<table class=\"dataframe\">\n",
       "<caption>A tibble: 303 × 4</caption>\n",
       "<thead>\n",
       "\t<tr><th scope=col>chol</th><th scope=col>trestbps</th><th scope=col>thalach</th><th scope=col>num</th></tr>\n",
       "\t<tr><th scope=col>&lt;dbl&gt;</th><th scope=col>&lt;dbl&gt;</th><th scope=col>&lt;dbl&gt;</th><th scope=col>&lt;fct&gt;</th></tr>\n",
       "</thead>\n",
       "<tbody>\n",
       "\t<tr><td>233</td><td>145</td><td>150</td><td>0</td></tr>\n",
       "\t<tr><td>286</td><td>160</td><td>108</td><td>1</td></tr>\n",
       "\t<tr><td>229</td><td>120</td><td>129</td><td>1</td></tr>\n",
       "\t<tr><td>⋮</td><td>⋮</td><td>⋮</td><td>⋮</td></tr>\n",
       "\t<tr><td>131</td><td>130</td><td>115</td><td>1</td></tr>\n",
       "\t<tr><td>236</td><td>130</td><td>174</td><td>1</td></tr>\n",
       "\t<tr><td>175</td><td>138</td><td>173</td><td>0</td></tr>\n",
       "</tbody>\n",
       "</table>\n"
      ],
      "text/latex": [
       "A tibble: 303 × 4\n",
       "\\begin{tabular}{llll}\n",
       " chol & trestbps & thalach & num\\\\\n",
       " <dbl> & <dbl> & <dbl> & <fct>\\\\\n",
       "\\hline\n",
       "\t 233 & 145 & 150 & 0\\\\\n",
       "\t 286 & 160 & 108 & 1\\\\\n",
       "\t 229 & 120 & 129 & 1\\\\\n",
       "\t ⋮ & ⋮ & ⋮ & ⋮\\\\\n",
       "\t 131 & 130 & 115 & 1\\\\\n",
       "\t 236 & 130 & 174 & 1\\\\\n",
       "\t 175 & 138 & 173 & 0\\\\\n",
       "\\end{tabular}\n"
      ],
      "text/markdown": [
       "\n",
       "A tibble: 303 × 4\n",
       "\n",
       "| chol &lt;dbl&gt; | trestbps &lt;dbl&gt; | thalach &lt;dbl&gt; | num &lt;fct&gt; |\n",
       "|---|---|---|---|\n",
       "| 233 | 145 | 150 | 0 |\n",
       "| 286 | 160 | 108 | 1 |\n",
       "| 229 | 120 | 129 | 1 |\n",
       "| ⋮ | ⋮ | ⋮ | ⋮ |\n",
       "| 131 | 130 | 115 | 1 |\n",
       "| 236 | 130 | 174 | 1 |\n",
       "| 175 | 138 | 173 | 0 |\n",
       "\n"
      ],
      "text/plain": [
       "    chol trestbps thalach num\n",
       "1   233  145      150     0  \n",
       "2   286  160      108     1  \n",
       "3   229  120      129     1  \n",
       "⋮   ⋮    ⋮        ⋮       ⋮  \n",
       "301 131  130      115     1  \n",
       "302 236  130      174     1  \n",
       "303 175  138      173     0  "
      ]
     },
     "metadata": {},
     "output_type": "display_data"
    }
   ],
   "source": [
    "# filtering / wrangling data\n",
    "data_wrangled <- data |>  \n",
    "    #   chol: serum cholestoral in mg/dl\n",
    "    #   trestbps: resting blood pressure (in mm Hg on admission to the hospital)\n",
    "    #   thalach: maximum heart rate achieved\n",
    "    #   num: diagnosis of heart disease (angiographic disease status)\n",
    "    #    -- Value 0: < 50% diameter narrowing\n",
    "    #    -- Value 1: > 50% diameter narrowing\n",
    "    select(chol, trestbps, thalach, num) |>\n",
    "    mutate(num = as_factor(num))\n",
    "data_wrangled$num[data_wrangled$num != '0'] <- '1'\n",
    "data_wrangled <- droplevels(data_wrangled)\n",
    "# levels(data_wrangled$num) <- c(levels(data_wrangled$num), 'Diagnosed', 'Not diagnosed')\n",
    "# data_wrangled$num[data_wrangled$num != '0'] <- 'Diagnosed'\n",
    "# data_wrangled$num[data_wrangled$num == '0'] <- 'Not diagnosed'\n",
    "data_wrangled"
   ]
  },
  {
   "cell_type": "code",
   "execution_count": 54,
   "id": "d9f7c84a-224b-4008-b430-351434781cb2",
   "metadata": {
    "tags": []
   },
   "outputs": [],
   "source": [
    "# splitting data sets\n",
    "data_split <- initial_split(data_wrangled, prop = 0.75, strata = num)\n",
    "data_train <- training(data_split)\n",
    "data_test <- testing(data_split)"
   ]
  },
  {
   "cell_type": "code",
   "execution_count": 55,
   "id": "dc5244af-86e1-43d4-9e96-05e8747b2762",
   "metadata": {},
   "outputs": [],
   "source": [
    "recipe <- recipe(num ~ ., data = data_train) |>\n",
    "    step_scale(all_predictors()) |>\n",
    "    step_center(all_predictors())\n",
    "\n",
    "model <- nearest_neighbor(weight_func = \"rectangular\", neighbors = tune()) |>\n",
    "    set_engine(\"kknn\") |>\n",
    "    set_mode(\"classification\") \n",
    "\n",
    "vfold <- vfold_cv(data_train, v = 5, strata = num)\n",
    "\n",
    "fit <- workflow() |>\n",
    "    add_recipe(recipe) |> \n",
    "    add_model(model) |>\n",
    "    tune_grid(resamples = vfold, grid = tibble(neighbors = seq(from = 1, to = 100, by = 5)))"
   ]
  },
  {
   "cell_type": "code",
   "execution_count": 57,
   "id": "d05d8a11-d142-4604-870c-2e54ce6d4e68",
   "metadata": {
    "tags": []
   },
   "outputs": [
    {
     "data": {
      "text/html": [
       "<table class=\"dataframe\">\n",
       "<caption>A tibble: 20 × 7</caption>\n",
       "<thead>\n",
       "\t<tr><th scope=col>neighbors</th><th scope=col>.metric</th><th scope=col>.estimator</th><th scope=col>mean</th><th scope=col>n</th><th scope=col>std_err</th><th scope=col>.config</th></tr>\n",
       "\t<tr><th scope=col>&lt;dbl&gt;</th><th scope=col>&lt;chr&gt;</th><th scope=col>&lt;chr&gt;</th><th scope=col>&lt;dbl&gt;</th><th scope=col>&lt;int&gt;</th><th scope=col>&lt;dbl&gt;</th><th scope=col>&lt;chr&gt;</th></tr>\n",
       "</thead>\n",
       "<tbody>\n",
       "\t<tr><td> 1</td><td>accuracy</td><td>binary</td><td>0.5990426</td><td>5</td><td>0.02482683</td><td>Preprocessor1_Model01</td></tr>\n",
       "\t<tr><td> 6</td><td>accuracy</td><td>binary</td><td>0.6556653</td><td>5</td><td>0.02240458</td><td>Preprocessor1_Model02</td></tr>\n",
       "\t<tr><td>11</td><td>accuracy</td><td>binary</td><td>0.6739438</td><td>5</td><td>0.01453390</td><td>Preprocessor1_Model03</td></tr>\n",
       "\t<tr><td>⋮</td><td>⋮</td><td>⋮</td><td>⋮</td><td>⋮</td><td>⋮</td><td>⋮</td></tr>\n",
       "\t<tr><td>86</td><td>accuracy</td><td>binary</td><td>0.6477646</td><td>5</td><td>0.01977668</td><td>Preprocessor1_Model18</td></tr>\n",
       "\t<tr><td>91</td><td>accuracy</td><td>binary</td><td>0.6479622</td><td>5</td><td>0.01786999</td><td>Preprocessor1_Model19</td></tr>\n",
       "\t<tr><td>96</td><td>accuracy</td><td>binary</td><td>0.6612033</td><td>5</td><td>0.02117171</td><td>Preprocessor1_Model20</td></tr>\n",
       "</tbody>\n",
       "</table>\n"
      ],
      "text/latex": [
       "A tibble: 20 × 7\n",
       "\\begin{tabular}{lllllll}\n",
       " neighbors & .metric & .estimator & mean & n & std\\_err & .config\\\\\n",
       " <dbl> & <chr> & <chr> & <dbl> & <int> & <dbl> & <chr>\\\\\n",
       "\\hline\n",
       "\t  1 & accuracy & binary & 0.5990426 & 5 & 0.02482683 & Preprocessor1\\_Model01\\\\\n",
       "\t  6 & accuracy & binary & 0.6556653 & 5 & 0.02240458 & Preprocessor1\\_Model02\\\\\n",
       "\t 11 & accuracy & binary & 0.6739438 & 5 & 0.01453390 & Preprocessor1\\_Model03\\\\\n",
       "\t ⋮ & ⋮ & ⋮ & ⋮ & ⋮ & ⋮ & ⋮\\\\\n",
       "\t 86 & accuracy & binary & 0.6477646 & 5 & 0.01977668 & Preprocessor1\\_Model18\\\\\n",
       "\t 91 & accuracy & binary & 0.6479622 & 5 & 0.01786999 & Preprocessor1\\_Model19\\\\\n",
       "\t 96 & accuracy & binary & 0.6612033 & 5 & 0.02117171 & Preprocessor1\\_Model20\\\\\n",
       "\\end{tabular}\n"
      ],
      "text/markdown": [
       "\n",
       "A tibble: 20 × 7\n",
       "\n",
       "| neighbors &lt;dbl&gt; | .metric &lt;chr&gt; | .estimator &lt;chr&gt; | mean &lt;dbl&gt; | n &lt;int&gt; | std_err &lt;dbl&gt; | .config &lt;chr&gt; |\n",
       "|---|---|---|---|---|---|---|\n",
       "|  1 | accuracy | binary | 0.5990426 | 5 | 0.02482683 | Preprocessor1_Model01 |\n",
       "|  6 | accuracy | binary | 0.6556653 | 5 | 0.02240458 | Preprocessor1_Model02 |\n",
       "| 11 | accuracy | binary | 0.6739438 | 5 | 0.01453390 | Preprocessor1_Model03 |\n",
       "| ⋮ | ⋮ | ⋮ | ⋮ | ⋮ | ⋮ | ⋮ |\n",
       "| 86 | accuracy | binary | 0.6477646 | 5 | 0.01977668 | Preprocessor1_Model18 |\n",
       "| 91 | accuracy | binary | 0.6479622 | 5 | 0.01786999 | Preprocessor1_Model19 |\n",
       "| 96 | accuracy | binary | 0.6612033 | 5 | 0.02117171 | Preprocessor1_Model20 |\n",
       "\n"
      ],
      "text/plain": [
       "   neighbors .metric  .estimator mean      n std_err    .config              \n",
       "1   1        accuracy binary     0.5990426 5 0.02482683 Preprocessor1_Model01\n",
       "2   6        accuracy binary     0.6556653 5 0.02240458 Preprocessor1_Model02\n",
       "3  11        accuracy binary     0.6739438 5 0.01453390 Preprocessor1_Model03\n",
       "⋮  ⋮         ⋮        ⋮          ⋮         ⋮ ⋮          ⋮                    \n",
       "18 86        accuracy binary     0.6477646 5 0.01977668 Preprocessor1_Model18\n",
       "19 91        accuracy binary     0.6479622 5 0.01786999 Preprocessor1_Model19\n",
       "20 96        accuracy binary     0.6612033 5 0.02117171 Preprocessor1_Model20"
      ]
     },
     "metadata": {},
     "output_type": "display_data"
    },
    {
     "data": {
      "text/html": [
       "41"
      ],
      "text/latex": [
       "41"
      ],
      "text/markdown": [
       "41"
      ],
      "text/plain": [
       "[1] 41"
      ]
     },
     "metadata": {},
     "output_type": "display_data"
    }
   ],
   "source": [
    "metrics <- fit |>\n",
    "    collect_metrics() |>\n",
    "    filter(.metric == 'accuracy')\n",
    "\n",
    "tuned_K <-  metrics |>\n",
    "    filter(mean == max(mean)) |>\n",
    "    select(neighbors) |>\n",
    "    pull()\n",
    "\n",
    "metrics\n",
    "tuned_K"
   ]
  },
  {
   "cell_type": "code",
   "execution_count": 58,
   "id": "b33c6ff0-83ea-499c-a942-9fe5aeff46a0",
   "metadata": {
    "tags": []
   },
   "outputs": [
    {
     "data": {
      "text/html": [
       "<table class=\"dataframe\">\n",
       "<caption>A tibble: 1 × 6</caption>\n",
       "<thead>\n",
       "\t<tr><th scope=col>.metric</th><th scope=col>.estimator</th><th scope=col>mean</th><th scope=col>n</th><th scope=col>std_err</th><th scope=col>.config</th></tr>\n",
       "\t<tr><th scope=col>&lt;chr&gt;</th><th scope=col>&lt;chr&gt;</th><th scope=col>&lt;dbl&gt;</th><th scope=col>&lt;int&gt;</th><th scope=col>&lt;dbl&gt;</th><th scope=col>&lt;chr&gt;</th></tr>\n",
       "</thead>\n",
       "<tbody>\n",
       "\t<tr><td>accuracy</td><td>binary</td><td>0.6868863</td><td>5</td><td>0.01468857</td><td>Preprocessor1_Model1</td></tr>\n",
       "</tbody>\n",
       "</table>\n"
      ],
      "text/latex": [
       "A tibble: 1 × 6\n",
       "\\begin{tabular}{llllll}\n",
       " .metric & .estimator & mean & n & std\\_err & .config\\\\\n",
       " <chr> & <chr> & <dbl> & <int> & <dbl> & <chr>\\\\\n",
       "\\hline\n",
       "\t accuracy & binary & 0.6868863 & 5 & 0.01468857 & Preprocessor1\\_Model1\\\\\n",
       "\\end{tabular}\n"
      ],
      "text/markdown": [
       "\n",
       "A tibble: 1 × 6\n",
       "\n",
       "| .metric &lt;chr&gt; | .estimator &lt;chr&gt; | mean &lt;dbl&gt; | n &lt;int&gt; | std_err &lt;dbl&gt; | .config &lt;chr&gt; |\n",
       "|---|---|---|---|---|---|\n",
       "| accuracy | binary | 0.6868863 | 5 | 0.01468857 | Preprocessor1_Model1 |\n",
       "\n"
      ],
      "text/plain": [
       "  .metric  .estimator mean      n std_err    .config             \n",
       "1 accuracy binary     0.6868863 5 0.01468857 Preprocessor1_Model1"
      ]
     },
     "metadata": {},
     "output_type": "display_data"
    }
   ],
   "source": [
    "tuned_model <- nearest_neighbor(weight_func = \"rectangular\", neighbors = tuned_K) |>\n",
    "    set_engine(\"kknn\") |>\n",
    "    set_mode(\"classification\") \n",
    "\n",
    "fit <- workflow() |>\n",
    "    add_recipe(recipe) |> \n",
    "    add_model(tuned_model) |>\n",
    "    fit_resamples(resamples = vfold)\n",
    "\n",
    "metrics <- fit |>\n",
    "    collect_metrics() |>\n",
    "    filter(.metric == 'accuracy')\n",
    "\n",
    "metrics"
   ]
  },
  {
   "cell_type": "code",
   "execution_count": null,
   "id": "2e2480fd-f274-4749-b817-24d9adc80249",
   "metadata": {},
   "outputs": [],
   "source": []
  }
 ],
 "metadata": {
  "kernelspec": {
   "display_name": "R",
   "language": "R",
   "name": "ir"
  },
  "language_info": {
   "codemirror_mode": "r",
   "file_extension": ".r",
   "mimetype": "text/x-r-source",
   "name": "R",
   "pygments_lexer": "r",
   "version": "4.2.2"
  },
  "widgets": {
   "application/vnd.jupyter.widget-state+json": {
    "state": {},
    "version_major": 2,
    "version_minor": 0
   }
  }
 },
 "nbformat": 4,
 "nbformat_minor": 5
}
